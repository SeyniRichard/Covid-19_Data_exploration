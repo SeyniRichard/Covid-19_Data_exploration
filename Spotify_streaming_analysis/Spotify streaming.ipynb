{
 "cells": [
  {
   "cell_type": "code",
   "execution_count": 78,
   "metadata": {},
   "outputs": [],
   "source": [
    "import spotipy.util as util\n",
    "\n",
    "username = 'sanoseyni5'\n",
    "client_id ='302125874eea4e4dbab4f18a03d615e7'\n",
    "client_secret = 'cfc7197b06ca46238546455d2d67950f'\n",
    "redirect_uri = 'http://localhost:7777/callback'\n",
    "scope = 'user-read-recently-played'\n",
    "\n",
    "token = util.prompt_for_user_token(username=username, \n",
    "                                   scope=scope, \n",
    "                                   client_id=client_id,   \n",
    "                                   client_secret=client_secret,     \n",
    "                                   redirect_uri=redirect_uri)"
   ]
  },
  {
   "cell_type": "code",
   "execution_count": 2,
   "metadata": {},
   "outputs": [
    {
     "name": "stdout",
     "output_type": "stream",
     "text": [
      "BQCrUu5opDR0MPBUJ7P6s691Nfv_Tx-5zE1wQr4a85nxUbP1OvNACEl_zwCl6dhoIxNyN5KUdGj9bEDu8EB3Lu48bL3GO5-6XoJHdFqQZd3rMkEK8NiyFmTGfiQwr7I1NrFs6c4MGMeagOgO9_4y1uw\n"
     ]
    }
   ],
   "source": [
    "print(token)"
   ]
  },
  {
   "cell_type": "code",
   "execution_count": 23,
   "metadata": {},
   "outputs": [],
   "source": [
    "import spotipy"
   ]
  },
  {
   "cell_type": "code",
   "execution_count": 74,
   "metadata": {},
   "outputs": [],
   "source": [
    "import requests\n",
    "def get_id(track_name: str, token: str) -> str:\n",
    "    headers = {\n",
    "    'Accept': 'application/json',\n",
    "    'Content-Type': 'application/json',\n",
    "    'Authorization': f'Bearer ' + token,\n",
    "    }\n",
    "    params = [\n",
    "    ('q', track_name),\n",
    "    ('type', 'track'),\n",
    "    ]\n",
    "    try:\n",
    "        response = requests.get('https://api.spotify.com/v1/search', \n",
    "                    headers = headers, params = params, timeout = 5)\n",
    "        json = response.json()\n",
    "        first_result = json['tracks']['items'][0]\n",
    "        track_id = first_result['id']\n",
    "        return track_id\n",
    "\n",
    "    except:\n",
    "        return None"
   ]
  },
  {
   "cell_type": "code",
   "execution_count": 75,
   "metadata": {},
   "outputs": [
    {
     "name": "stdout",
     "output_type": "stream",
     "text": [
      "2Fo8TPJGFZZ7I9U2RGeZWu\n"
     ]
    }
   ],
   "source": [
    "lucy_id = get_id('Et un jour une femme Florent Pagny', token)\n",
    "print(lucy_id)"
   ]
  },
  {
   "cell_type": "code",
   "execution_count": 21,
   "metadata": {},
   "outputs": [],
   "source": [
    "def get_features(track_id: str, token: str) -> dict:\n",
    "    sp = spotipy.Spotify(auth=token)\n",
    "    try:\n",
    "        features = sp.audio_features([track_id])\n",
    "        return features[0]\n",
    "    except:\n",
    "        return None"
   ]
  },
  {
   "cell_type": "code",
   "execution_count": 26,
   "metadata": {
    "scrolled": true
   },
   "outputs": [
    {
     "name": "stdout",
     "output_type": "stream",
     "text": [
      "{'danceability': 0.634, 'energy': 0.387, 'key': 9, 'loudness': -10.522, 'mode': 0, 'speechiness': 0.0282, 'acousticness': 0.217, 'instrumentalness': 0.00102, 'liveness': 0.0591, 'valence': 0.16, 'tempo': 135.687, 'type': 'audio_features', 'id': '2Fo8TPJGFZZ7I9U2RGeZWu', 'uri': 'spotify:track:2Fo8TPJGFZZ7I9U2RGeZWu', 'track_href': 'https://api.spotify.com/v1/tracks/2Fo8TPJGFZZ7I9U2RGeZWu', 'analysis_url': 'https://api.spotify.com/v1/audio-analysis/2Fo8TPJGFZZ7I9U2RGeZWu', 'duration_ms': 319493, 'time_signature': 4}\n"
     ]
    }
   ],
   "source": [
    "lucy_features = get_features(lucy_id, token)\n",
    "print(lucy_features)"
   ]
  },
  {
   "cell_type": "code",
   "execution_count": 34,
   "metadata": {},
   "outputs": [],
   "source": [
    "import ast\n",
    "from typing import List\n",
    "from os import listdir\n",
    "def get_streamings(path: str = 'C:/Users/sanos/Downloads/my_spotify_data/MyData') -> List[dict]:\n",
    "    \n",
    "    files = ['C:/Users/sanos/Downloads/my_spotify_data/MyData/' + x for x in listdir(path)\n",
    "             if x.split('.')[0][:-1] == 'StreamingHistory']\n",
    "    \n",
    "    all_streamings = []\n",
    "    \n",
    "    for file in files: \n",
    "        with open(file, 'r', encoding='UTF-8') as f:\n",
    "            new_streamings = ast.literal_eval(f.read())\n",
    "            all_streamings += [streaming for streaming \n",
    "                               in new_streamings]\n",
    "    return all_streamings"
   ]
  },
  {
   "cell_type": "code",
   "execution_count": 79,
   "metadata": {},
   "outputs": [],
   "source": [
    "streamings = get_streamings()\n",
    "unique_tracks = list(set([streaming['trackName']+' '+streaming['artistName']\n",
    "                for streaming in streamings]))\n",
    "\n",
    "all_features = {}\n",
    "for track in unique_tracks:\n",
    "    track_id = get_id(track, token)\n",
    "    features = get_features(track_id, token)\n",
    "    if features:\n",
    "        all_features[track] = features\n",
    "        \n",
    "with_features = []\n",
    "for track_name, features in all_features.items():\n",
    "    with_features.append({'name': track_name, **features})"
   ]
  },
  {
   "cell_type": "code",
   "execution_count": 80,
   "metadata": {},
   "outputs": [],
   "source": [
    "import pandas as pd\n",
    "df = pd.DataFrame(with_features)\n",
    "df.to_csv('streaming_history.csv')"
   ]
  },
  {
   "cell_type": "code",
   "execution_count": 81,
   "metadata": {
    "scrolled": true
   },
   "outputs": [
    {
     "data": {
      "text/html": [
       "<div>\n",
       "<style scoped>\n",
       "    .dataframe tbody tr th:only-of-type {\n",
       "        vertical-align: middle;\n",
       "    }\n",
       "\n",
       "    .dataframe tbody tr th {\n",
       "        vertical-align: top;\n",
       "    }\n",
       "\n",
       "    .dataframe thead th {\n",
       "        text-align: right;\n",
       "    }\n",
       "</style>\n",
       "<table border=\"1\" class=\"dataframe\">\n",
       "  <thead>\n",
       "    <tr style=\"text-align: right;\">\n",
       "      <th></th>\n",
       "      <th>name</th>\n",
       "      <th>danceability</th>\n",
       "      <th>energy</th>\n",
       "      <th>key</th>\n",
       "      <th>loudness</th>\n",
       "      <th>mode</th>\n",
       "      <th>speechiness</th>\n",
       "      <th>acousticness</th>\n",
       "      <th>instrumentalness</th>\n",
       "      <th>liveness</th>\n",
       "      <th>valence</th>\n",
       "      <th>tempo</th>\n",
       "      <th>type</th>\n",
       "      <th>id</th>\n",
       "      <th>uri</th>\n",
       "      <th>track_href</th>\n",
       "      <th>analysis_url</th>\n",
       "      <th>duration_ms</th>\n",
       "      <th>time_signature</th>\n",
       "    </tr>\n",
       "  </thead>\n",
       "  <tbody>\n",
       "    <tr>\n",
       "      <th>0</th>\n",
       "      <td>Best Day Of My Life American Authors</td>\n",
       "      <td>0.675</td>\n",
       "      <td>0.894</td>\n",
       "      <td>2</td>\n",
       "      <td>-2.442</td>\n",
       "      <td>1</td>\n",
       "      <td>0.0355</td>\n",
       "      <td>0.0599</td>\n",
       "      <td>0.000452</td>\n",
       "      <td>0.0484</td>\n",
       "      <td>0.537</td>\n",
       "      <td>100.010</td>\n",
       "      <td>audio_features</td>\n",
       "      <td>0Dho96aJIZ5LJZXyPllbWA</td>\n",
       "      <td>spotify:track:0Dho96aJIZ5LJZXyPllbWA</td>\n",
       "      <td>https://api.spotify.com/v1/tracks/0Dho96aJIZ5L...</td>\n",
       "      <td>https://api.spotify.com/v1/audio-analysis/0Dho...</td>\n",
       "      <td>194187</td>\n",
       "      <td>4</td>\n",
       "    </tr>\n",
       "    <tr>\n",
       "      <th>1</th>\n",
       "      <td>Ça marche (feat. The Shin Sekaï) GIMS</td>\n",
       "      <td>0.780</td>\n",
       "      <td>0.848</td>\n",
       "      <td>0</td>\n",
       "      <td>-4.422</td>\n",
       "      <td>1</td>\n",
       "      <td>0.0642</td>\n",
       "      <td>0.0130</td>\n",
       "      <td>0.000000</td>\n",
       "      <td>0.3190</td>\n",
       "      <td>0.789</td>\n",
       "      <td>120.030</td>\n",
       "      <td>audio_features</td>\n",
       "      <td>7lg11NyWmYxjCv7RVr80ON</td>\n",
       "      <td>spotify:track:7lg11NyWmYxjCv7RVr80ON</td>\n",
       "      <td>https://api.spotify.com/v1/tracks/7lg11NyWmYxj...</td>\n",
       "      <td>https://api.spotify.com/v1/audio-analysis/7lg1...</td>\n",
       "      <td>221013</td>\n",
       "      <td>4</td>\n",
       "    </tr>\n",
       "    <tr>\n",
       "      <th>2</th>\n",
       "      <td>I Like The Way Timaya</td>\n",
       "      <td>0.802</td>\n",
       "      <td>0.790</td>\n",
       "      <td>0</td>\n",
       "      <td>-2.794</td>\n",
       "      <td>1</td>\n",
       "      <td>0.0710</td>\n",
       "      <td>0.0686</td>\n",
       "      <td>0.000018</td>\n",
       "      <td>0.0747</td>\n",
       "      <td>0.683</td>\n",
       "      <td>101.030</td>\n",
       "      <td>audio_features</td>\n",
       "      <td>1fDMlFjBdb1A2fPDBN5Wcg</td>\n",
       "      <td>spotify:track:1fDMlFjBdb1A2fPDBN5Wcg</td>\n",
       "      <td>https://api.spotify.com/v1/tracks/1fDMlFjBdb1A...</td>\n",
       "      <td>https://api.spotify.com/v1/audio-analysis/1fDM...</td>\n",
       "      <td>199933</td>\n",
       "      <td>4</td>\n",
       "    </tr>\n",
       "    <tr>\n",
       "      <th>3</th>\n",
       "      <td>Tu ne le vois pas (feat. Dadju) GIMS</td>\n",
       "      <td>0.751</td>\n",
       "      <td>0.620</td>\n",
       "      <td>10</td>\n",
       "      <td>-6.941</td>\n",
       "      <td>0</td>\n",
       "      <td>0.0783</td>\n",
       "      <td>0.0278</td>\n",
       "      <td>0.000000</td>\n",
       "      <td>0.1480</td>\n",
       "      <td>0.419</td>\n",
       "      <td>103.953</td>\n",
       "      <td>audio_features</td>\n",
       "      <td>2CIt98hwNBUGhhYSX6GQPU</td>\n",
       "      <td>spotify:track:2CIt98hwNBUGhhYSX6GQPU</td>\n",
       "      <td>https://api.spotify.com/v1/tracks/2CIt98hwNBUG...</td>\n",
       "      <td>https://api.spotify.com/v1/audio-analysis/2CIt...</td>\n",
       "      <td>261840</td>\n",
       "      <td>4</td>\n",
       "    </tr>\n",
       "    <tr>\n",
       "      <th>4</th>\n",
       "      <td>Bonita GIMS</td>\n",
       "      <td>0.666</td>\n",
       "      <td>0.586</td>\n",
       "      <td>8</td>\n",
       "      <td>-8.031</td>\n",
       "      <td>0</td>\n",
       "      <td>0.0584</td>\n",
       "      <td>0.4670</td>\n",
       "      <td>0.000003</td>\n",
       "      <td>0.0945</td>\n",
       "      <td>0.757</td>\n",
       "      <td>124.008</td>\n",
       "      <td>audio_features</td>\n",
       "      <td>3zisukp9wkrjfJ4vJNUk1n</td>\n",
       "      <td>spotify:track:3zisukp9wkrjfJ4vJNUk1n</td>\n",
       "      <td>https://api.spotify.com/v1/tracks/3zisukp9wkrj...</td>\n",
       "      <td>https://api.spotify.com/v1/audio-analysis/3zis...</td>\n",
       "      <td>213533</td>\n",
       "      <td>4</td>\n",
       "    </tr>\n",
       "  </tbody>\n",
       "</table>\n",
       "</div>"
      ],
      "text/plain": [
       "                                    name  danceability  energy  key  loudness  \\\n",
       "0   Best Day Of My Life American Authors         0.675   0.894    2    -2.442   \n",
       "1  Ça marche (feat. The Shin Sekaï) GIMS         0.780   0.848    0    -4.422   \n",
       "2                  I Like The Way Timaya         0.802   0.790    0    -2.794   \n",
       "3   Tu ne le vois pas (feat. Dadju) GIMS         0.751   0.620   10    -6.941   \n",
       "4                            Bonita GIMS         0.666   0.586    8    -8.031   \n",
       "\n",
       "   mode  speechiness  acousticness  instrumentalness  liveness  valence  \\\n",
       "0     1       0.0355        0.0599          0.000452    0.0484    0.537   \n",
       "1     1       0.0642        0.0130          0.000000    0.3190    0.789   \n",
       "2     1       0.0710        0.0686          0.000018    0.0747    0.683   \n",
       "3     0       0.0783        0.0278          0.000000    0.1480    0.419   \n",
       "4     0       0.0584        0.4670          0.000003    0.0945    0.757   \n",
       "\n",
       "     tempo            type                      id  \\\n",
       "0  100.010  audio_features  0Dho96aJIZ5LJZXyPllbWA   \n",
       "1  120.030  audio_features  7lg11NyWmYxjCv7RVr80ON   \n",
       "2  101.030  audio_features  1fDMlFjBdb1A2fPDBN5Wcg   \n",
       "3  103.953  audio_features  2CIt98hwNBUGhhYSX6GQPU   \n",
       "4  124.008  audio_features  3zisukp9wkrjfJ4vJNUk1n   \n",
       "\n",
       "                                    uri  \\\n",
       "0  spotify:track:0Dho96aJIZ5LJZXyPllbWA   \n",
       "1  spotify:track:7lg11NyWmYxjCv7RVr80ON   \n",
       "2  spotify:track:1fDMlFjBdb1A2fPDBN5Wcg   \n",
       "3  spotify:track:2CIt98hwNBUGhhYSX6GQPU   \n",
       "4  spotify:track:3zisukp9wkrjfJ4vJNUk1n   \n",
       "\n",
       "                                          track_href  \\\n",
       "0  https://api.spotify.com/v1/tracks/0Dho96aJIZ5L...   \n",
       "1  https://api.spotify.com/v1/tracks/7lg11NyWmYxj...   \n",
       "2  https://api.spotify.com/v1/tracks/1fDMlFjBdb1A...   \n",
       "3  https://api.spotify.com/v1/tracks/2CIt98hwNBUG...   \n",
       "4  https://api.spotify.com/v1/tracks/3zisukp9wkrj...   \n",
       "\n",
       "                                        analysis_url  duration_ms  \\\n",
       "0  https://api.spotify.com/v1/audio-analysis/0Dho...       194187   \n",
       "1  https://api.spotify.com/v1/audio-analysis/7lg1...       221013   \n",
       "2  https://api.spotify.com/v1/audio-analysis/1fDM...       199933   \n",
       "3  https://api.spotify.com/v1/audio-analysis/2CIt...       261840   \n",
       "4  https://api.spotify.com/v1/audio-analysis/3zis...       213533   \n",
       "\n",
       "   time_signature  \n",
       "0               4  \n",
       "1               4  \n",
       "2               4  \n",
       "3               4  \n",
       "4               4  "
      ]
     },
     "execution_count": 81,
     "metadata": {},
     "output_type": "execute_result"
    }
   ],
   "source": [
    "df.head()"
   ]
  },
  {
   "cell_type": "code",
   "execution_count": 86,
   "metadata": {},
   "outputs": [],
   "source": [
    "headers = {'Authorization': 'Bearer {token}'.format(token=token)}"
   ]
  },
  {
   "cell_type": "code",
   "execution_count": 90,
   "metadata": {},
   "outputs": [
    {
     "ename": "KeyError",
     "evalue": "'artists'",
     "output_type": "error",
     "traceback": [
      "\u001b[1;31m---------------------------------------------------------------------------\u001b[0m",
      "\u001b[1;31mKeyError\u001b[0m                                  Traceback (most recent call last)",
      "\u001b[1;32m<ipython-input-90-34fe63a7df3e>\u001b[0m in \u001b[0;36m<module>\u001b[1;34m\u001b[0m\n\u001b[0;32m     13\u001b[0m     \u001b[0mr\u001b[0m \u001b[1;33m=\u001b[0m \u001b[0mrequests\u001b[0m\u001b[1;33m.\u001b[0m\u001b[0mget\u001b[0m\u001b[1;33m(\u001b[0m\u001b[1;34m'https://api.spotify.com/v1/'\u001b[0m \u001b[1;33m+\u001b[0m \u001b[1;34m'tracks/'\u001b[0m \u001b[1;33m+\u001b[0m \u001b[0mt_uri\u001b[0m\u001b[1;33m,\u001b[0m \u001b[0mheaders\u001b[0m\u001b[1;33m=\u001b[0m\u001b[0mheaders\u001b[0m\u001b[1;33m)\u001b[0m\u001b[1;33m\u001b[0m\u001b[1;33m\u001b[0m\u001b[0m\n\u001b[0;32m     14\u001b[0m     \u001b[0mr\u001b[0m \u001b[1;33m=\u001b[0m \u001b[0mr\u001b[0m\u001b[1;33m.\u001b[0m\u001b[0mjson\u001b[0m\u001b[1;33m(\u001b[0m\u001b[1;33m)\u001b[0m\u001b[1;33m\u001b[0m\u001b[1;33m\u001b[0m\u001b[0m\n\u001b[1;32m---> 15\u001b[1;33m     \u001b[0ma_uri\u001b[0m \u001b[1;33m=\u001b[0m \u001b[0mr\u001b[0m\u001b[1;33m[\u001b[0m\u001b[1;34m'artists'\u001b[0m\u001b[1;33m]\u001b[0m\u001b[1;33m[\u001b[0m\u001b[1;36m0\u001b[0m\u001b[1;33m]\u001b[0m\u001b[1;33m[\u001b[0m\u001b[1;34m'uri'\u001b[0m\u001b[1;33m]\u001b[0m\u001b[1;33m.\u001b[0m\u001b[0msplit\u001b[0m\u001b[1;33m(\u001b[0m\u001b[1;34m':'\u001b[0m\u001b[1;33m)\u001b[0m\u001b[1;33m[\u001b[0m\u001b[1;36m2\u001b[0m\u001b[1;33m]\u001b[0m\u001b[1;33m\u001b[0m\u001b[1;33m\u001b[0m\u001b[0m\n\u001b[0m\u001b[0;32m     16\u001b[0m     \u001b[0mdict_genre\u001b[0m\u001b[1;33m[\u001b[0m\u001b[0mt_uri\u001b[0m\u001b[1;33m]\u001b[0m\u001b[1;33m[\u001b[0m\u001b[1;34m'artist_uri'\u001b[0m\u001b[1;33m]\u001b[0m \u001b[1;33m=\u001b[0m \u001b[0ma_uri\u001b[0m\u001b[1;33m\u001b[0m\u001b[1;33m\u001b[0m\u001b[0m\n\u001b[0;32m     17\u001b[0m \u001b[1;33m\u001b[0m\u001b[0m\n",
      "\u001b[1;31mKeyError\u001b[0m: 'artists'"
     ]
    }
   ],
   "source": [
    "dict_genre = {}\n",
    "\n",
    "# convert track_uri column to an iterable list\n",
    "track_uris = df['uri'].to_list()\n",
    "\n",
    "# loop through track URIs and pull artist URI using the API,\n",
    "# then use artist URI to pull genres associated with that artist\n",
    "# store all these in a dictionary\n",
    "for t_uri in track_uris:\n",
    "    \n",
    "    dict_genre[t_uri] = {'artist_uri': \"\", \"genres\":[]}\n",
    "    \n",
    "    r = requests.get('https://api.spotify.com/v1/' + 'tracks/' + t_uri, headers=headers)\n",
    "    r = r.json()\n",
    "    a_uri = r['artists'][0]['uri'].split(':')[2]\n",
    "    dict_genre[t_uri]['artist_uri'] = a_uri\n",
    "    \n",
    "    s = requests.get('https://api.spotify.com/v1/' + 'artists/' + a_uri, headers=headers)\n",
    "    s = s.json()\n",
    "    dict_genre[t_uri]['genres'] = s['genres']"
   ]
  },
  {
   "cell_type": "code",
   "execution_count": null,
   "metadata": {},
   "outputs": [],
   "source": []
  }
 ],
 "metadata": {
  "kernelspec": {
   "display_name": "Python 3",
   "language": "python",
   "name": "python3"
  },
  "language_info": {
   "codemirror_mode": {
    "name": "ipython",
    "version": 3
   },
   "file_extension": ".py",
   "mimetype": "text/x-python",
   "name": "python",
   "nbconvert_exporter": "python",
   "pygments_lexer": "ipython3",
   "version": "3.8.3"
  }
 },
 "nbformat": 4,
 "nbformat_minor": 4
}
